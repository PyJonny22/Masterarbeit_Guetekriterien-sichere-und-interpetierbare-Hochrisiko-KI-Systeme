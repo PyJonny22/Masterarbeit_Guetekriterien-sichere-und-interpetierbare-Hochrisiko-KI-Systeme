{
 "cells": [
  {
   "cell_type": "markdown",
   "id": "3b9fc658",
   "metadata": {},
   "source": [
    "# Masterarbeit: Gütekriterien sicherer und interpretierbarer Hochrisiko-KI-Systeme\n",
    "\n",
    "Dieses Repository dient als **technischer Anhang** zum Evaluationskapitel der Masterarbeit  \n",
    "**„Sicherheit als Verstehen, Verstehen als Vertrauen – Theoretische Herleitung und angewandte Evaluation von Gütekriterien zur Erfüllung rechtlicher und ethischer Anforderungen an sichere und interpretierbare KI-Systeme“**.\n",
    "\n",
    "---\n",
    "\n",
    "## 📘 Ziel und Kontext\n",
    "\n",
    "Im Zentrum steht die Entwicklung und exemplarische Anwendung von **Gütekriterien** für die Bewertung von Hochrisiko-KI-Systemen im Kreditkontext.  \n",
    "Das Repository dokumentiert den **technischen Teil** der Arbeit – von der Datendekodierung über die Modellierung bis zur Evaluierung der epistemologischen Metriken.\n",
    "\n",
    "---\n",
    "\n",
    "## 📂 Inhalte\n",
    "\n",
    "### 🧩 Jupyter-Notebooks\n",
    "\n",
    "| Notebook | Beschreibung |\n",
    "|-----------|---------------|\n",
    "| **German Credit Data Lesbar** | Enthält die Dekodierung und Aufbereitung des *German Credit Data*-Datensatzes. |\n",
    "| **German Credit ANN** | Implementiert das künstliche neuronale Netz (ANN), das auf dem *German Credit Data*-Datensatz trainiert wird. |\n",
    "| **Selection** | Skript zur Auswahl von zehn möglichst diversen Profilen aus dem Datensatz auf Basis einer Distanz- und Clustering-Heuristik. |\n",
    "| **Evaluation** | Berechnet die **α- (Notwendigkeit)** und **β- (Hinreichendkeits)**-Metriken für die ausgewählten Profile und visualisiert die Ergebnisse. |\n",
    "\n",
    "---\n",
    "\n",
    "### 📄 Ergebnisdateien\n",
    "\n",
    "| Datei | Beschreibung |\n",
    "|--------|---------------|\n",
    "| **diverse_profiles.csv** | Die zehn im *Selection*-Notebook ermittelten, diversesten Profile. |\n",
    "| **profilbericht_alpha_beta_twostage.md** | Der vollständige Profilbericht mit den Ergebnissen der Evaluation (α/β-Metriken) und einer aggregierten Analyse. |\n",
    "\n",
    "---\n",
    "\n",
    "## ⚙️ Reproduktion\n",
    "\n",
    "### Voraussetzungen\n",
    "\n",
    "- Python ≥ 3.10  \n",
    "- Jupyter Notebook oder JupyterLab  \n",
    "- Folgende Python-Bibliotheken:\n",
    "  ```bash\n",
    "  pip install numpy pandas torch matplotlib seaborn scikit-learn\n"
   ]
  }
 ],
 "metadata": {
  "language_info": {
   "name": "python"
  }
 },
 "nbformat": 4,
 "nbformat_minor": 5
}
